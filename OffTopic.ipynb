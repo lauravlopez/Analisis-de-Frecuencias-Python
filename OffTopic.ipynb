{
 "cells": [
  {
   "cell_type": "code",
   "execution_count": 1,
   "metadata": {},
   "outputs": [],
   "source": [
    "import pandas as pd\n",
    "import numpy as np\n",
    "import matplotlib.pyplot as plt\n",
    "import seaborn as sns\n",
    "%matplotlib inline"
   ]
  },
  {
   "cell_type": "markdown",
   "metadata": {},
   "source": [
    "### SUS Sin acompañamiento"
   ]
  },
  {
   "cell_type": "code",
   "execution_count": 2,
   "metadata": {},
   "outputs": [
    {
     "data": {
      "text/html": [
       "<div>\n",
       "<style scoped>\n",
       "    .dataframe tbody tr th:only-of-type {\n",
       "        vertical-align: middle;\n",
       "    }\n",
       "\n",
       "    .dataframe tbody tr th {\n",
       "        vertical-align: top;\n",
       "    }\n",
       "\n",
       "    .dataframe thead th {\n",
       "        text-align: right;\n",
       "    }\n",
       "</style>\n",
       "<table border=\"1\" class=\"dataframe\">\n",
       "  <thead>\n",
       "    <tr style=\"text-align: right;\">\n",
       "      <th></th>\n",
       "      <th>A_9</th>\n",
       "      <th>A_10</th>\n",
       "      <th>A_11</th>\n",
       "      <th>A_12</th>\n",
       "      <th>A_13</th>\n",
       "      <th>A_14</th>\n",
       "      <th>A_15</th>\n",
       "    </tr>\n",
       "  </thead>\n",
       "  <tbody>\n",
       "    <tr>\n",
       "      <th>0</th>\n",
       "      <td>7</td>\n",
       "      <td>8</td>\n",
       "      <td>9</td>\n",
       "      <td>0</td>\n",
       "      <td>8</td>\n",
       "      <td>9</td>\n",
       "      <td>6</td>\n",
       "    </tr>\n",
       "    <tr>\n",
       "      <th>1</th>\n",
       "      <td>2</td>\n",
       "      <td>8</td>\n",
       "      <td>7</td>\n",
       "      <td>0</td>\n",
       "      <td>8</td>\n",
       "      <td>9</td>\n",
       "      <td>3</td>\n",
       "    </tr>\n",
       "    <tr>\n",
       "      <th>2</th>\n",
       "      <td>9</td>\n",
       "      <td>9</td>\n",
       "      <td>1</td>\n",
       "      <td>7</td>\n",
       "      <td>9</td>\n",
       "      <td>9</td>\n",
       "      <td>5</td>\n",
       "    </tr>\n",
       "    <tr>\n",
       "      <th>3</th>\n",
       "      <td>3</td>\n",
       "      <td>8</td>\n",
       "      <td>1</td>\n",
       "      <td>3</td>\n",
       "      <td>6</td>\n",
       "      <td>8</td>\n",
       "      <td>2</td>\n",
       "    </tr>\n",
       "    <tr>\n",
       "      <th>4</th>\n",
       "      <td>5</td>\n",
       "      <td>9</td>\n",
       "      <td>1</td>\n",
       "      <td>6</td>\n",
       "      <td>7</td>\n",
       "      <td>8</td>\n",
       "      <td>2</td>\n",
       "    </tr>\n",
       "  </tbody>\n",
       "</table>\n",
       "</div>"
      ],
      "text/plain": [
       "   A_9  A_10  A_11  A_12  A_13  A_14  A_15\n",
       "0    7     8     9     0     8     9     6\n",
       "1    2     8     7     0     8     9     3\n",
       "2    9     9     1     7     9     9     5\n",
       "3    3     8     1     3     6     8     2\n",
       "4    5     9     1     6     7     8     2"
      ]
     },
     "execution_count": 2,
     "metadata": {},
     "output_type": "execute_result"
    }
   ],
   "source": [
    "sus_sin_apoyo = pd.read_csv(\"Sus_sin-apoyo.csv\", delimiter=';')\n",
    "sus_sin_apoyo"
   ]
  },
  {
   "cell_type": "code",
   "execution_count": 4,
   "metadata": {},
   "outputs": [
    {
     "data": {
      "text/plain": [
       "array([7, 8, 9, 0, 8, 9, 6, 2, 8, 7, 0, 8, 9, 3, 9, 9, 1, 7, 9, 9, 5, 3,\n",
       "       8, 1, 3, 6, 8, 2, 5, 9, 1, 6, 7, 8, 2])"
      ]
     },
     "execution_count": 4,
     "metadata": {},
     "output_type": "execute_result"
    }
   ],
   "source": [
    "tmp = sus_sin_apoyo.copy()\n",
    "tmp = tmp.values.flatten()\n",
    "tmp"
   ]
  },
  {
   "cell_type": "code",
   "execution_count": 5,
   "metadata": {},
   "outputs": [
    {
     "name": "stdout",
     "output_type": "stream",
     "text": [
      "[2 3 3 3 0 2 3 4 7 8]\n",
      "[0.  0.9 1.8 2.7 3.6 4.5 5.4 6.3 7.2 8.1 9. ]\n"
     ]
    }
   ],
   "source": [
    "arr_hist, edges = np.histogram(tmp, bins=10)\n",
    "print(arr_hist)\n",
    "print(edges)"
   ]
  },
  {
   "cell_type": "code",
   "execution_count": 6,
   "metadata": {},
   "outputs": [
    {
     "data": {
      "image/png": "[encoded data removed]",
      "text/plain": [
       "<Figure size 432x288 with 1 Axes>"
      ]
     },
     "metadata": {
      "needs_background": "light"
     },
     "output_type": "display_data"
    }
   ],
   "source": [
    "plt.hist(tmp, bins=np.linspace(0,10,10), align='left', color='g', rwidth=0.7)\n",
    "plt.title('Frecuencia de las respuestas de los estudiantes')\n",
    "plt.xlabel('Calificacion')\n",
    "plt.ylabel('# de Apariciones')\n",
    "plt.xticks(np.linspace(0,9.5,10), ['0', '1', '2', '3', '4', '5', '6', '7', '8', '9']);"
   ]
  },
  {
   "cell_type": "code",
   "execution_count": 7,
   "metadata": {},
   "outputs": [
    {
     "data": {
      "image/png": "[encoded data removed]",
      "text/plain": [
       "<Figure size 576x504 with 1 Axes>"
      ]
     },
     "metadata": {
      "needs_background": "light"
     },
     "output_type": "display_data"
    }
   ],
   "source": [
    "plt.figure(figsize=(8, 7))\n",
    "sns.distplot(tmp, bins=10, axlabel='Calificacion', hist=True, kde=False)\n",
    "plt.title('Análisis de Frecuencia para simulación de perforación sin acompañamiento', fontdict={\n",
    "    'fontsize': 14,\n",
    "    'fontweight' : 400,\n",
    "    'verticalalignment': 'baseline',\n",
    "})\n",
    "plt.xlabel('Calificación', fontdict={\n",
    "    'fontsize': 12,\n",
    "    'fontweight' : 400,\n",
    "})\n",
    "plt.ylabel('Numero de Apariciones', fontdict={\n",
    "    'fontsize': 12,\n",
    "    'fontweight' : 400,\n",
    "    'verticalalignment': 'baseline',\n",
    "})\n",
    "plt.xticks(np.linspace(0,8,10), ['0', '1', '2', '3', '4', '5', '6', '7', '8', '9']);\n",
    "plt.savefig('figure.png')"
   ]
  },
  {
   "cell_type": "code",
   "execution_count": null,
   "metadata": {},
   "outputs": [],
   "source": []
  },
  {
   "cell_type": "markdown",
   "metadata": {},
   "source": [
    "### SUS con acompañamiento"
   ]
  },
  {
   "cell_type": "code",
   "execution_count": 8,
   "metadata": {},
   "outputs": [
    {
     "data": {
      "text/html": [
       "<div>\n",
       "<style scoped>\n",
       "    .dataframe tbody tr th:only-of-type {\n",
       "        vertical-align: middle;\n",
       "    }\n",
       "\n",
       "    .dataframe tbody tr th {\n",
       "        vertical-align: top;\n",
       "    }\n",
       "\n",
       "    .dataframe thead th {\n",
       "        text-align: right;\n",
       "    }\n",
       "</style>\n",
       "<table border=\"1\" class=\"dataframe\">\n",
       "  <thead>\n",
       "    <tr style=\"text-align: right;\">\n",
       "      <th></th>\n",
       "      <th>A_1</th>\n",
       "      <th>A_2</th>\n",
       "      <th>A_3</th>\n",
       "      <th>A_4</th>\n",
       "      <th>A_5</th>\n",
       "      <th>A_6</th>\n",
       "      <th>A_7</th>\n",
       "      <th>A_8</th>\n",
       "    </tr>\n",
       "  </thead>\n",
       "  <tbody>\n",
       "    <tr>\n",
       "      <th>0</th>\n",
       "      <td>9</td>\n",
       "      <td>9</td>\n",
       "      <td>9</td>\n",
       "      <td>8</td>\n",
       "      <td>9</td>\n",
       "      <td>7</td>\n",
       "      <td>9</td>\n",
       "      <td>9</td>\n",
       "    </tr>\n",
       "    <tr>\n",
       "      <th>1</th>\n",
       "      <td>9</td>\n",
       "      <td>8</td>\n",
       "      <td>9</td>\n",
       "      <td>9</td>\n",
       "      <td>9</td>\n",
       "      <td>7</td>\n",
       "      <td>8</td>\n",
       "      <td>8</td>\n",
       "    </tr>\n",
       "    <tr>\n",
       "      <th>2</th>\n",
       "      <td>8</td>\n",
       "      <td>9</td>\n",
       "      <td>9</td>\n",
       "      <td>8</td>\n",
       "      <td>9</td>\n",
       "      <td>9</td>\n",
       "      <td>9</td>\n",
       "      <td>9</td>\n",
       "    </tr>\n",
       "    <tr>\n",
       "      <th>3</th>\n",
       "      <td>6</td>\n",
       "      <td>4</td>\n",
       "      <td>5</td>\n",
       "      <td>2</td>\n",
       "      <td>9</td>\n",
       "      <td>7</td>\n",
       "      <td>7</td>\n",
       "      <td>6</td>\n",
       "    </tr>\n",
       "    <tr>\n",
       "      <th>4</th>\n",
       "      <td>7</td>\n",
       "      <td>8</td>\n",
       "      <td>8</td>\n",
       "      <td>7</td>\n",
       "      <td>9</td>\n",
       "      <td>8</td>\n",
       "      <td>6</td>\n",
       "      <td>7</td>\n",
       "    </tr>\n",
       "  </tbody>\n",
       "</table>\n",
       "</div>"
      ],
      "text/plain": [
       "   A_1  A_2  A_3  A_4  A_5  A_6  A_7  A_8\n",
       "0    9    9    9    8    9    7    9    9\n",
       "1    9    8    9    9    9    7    8    8\n",
       "2    8    9    9    8    9    9    9    9\n",
       "3    6    4    5    2    9    7    7    6\n",
       "4    7    8    8    7    9    8    6    7"
      ]
     },
     "execution_count": 8,
     "metadata": {},
     "output_type": "execute_result"
    }
   ],
   "source": [
    "sus_con_apoyo = pd.read_csv('Sus_con-apoyo.csv', delimiter=';')\n",
    "sus_con_apoyo"
   ]
  },
  {
   "cell_type": "code",
   "execution_count": 9,
   "metadata": {},
   "outputs": [],
   "source": [
    "tmp2 = sus_con_apoyo.copy()\n",
    "tmp2 = tmp2.values.flatten()"
   ]
  },
  {
   "cell_type": "code",
   "execution_count": 11,
   "metadata": {},
   "outputs": [
    {
     "data": {
      "image/png": "[encoded data removed]",
      "text/plain": [
       "<Figure size 576x504 with 1 Axes>"
      ]
     },
     "metadata": {
      "needs_background": "light"
     },
     "output_type": "display_data"
    }
   ],
   "source": [
    "plt.figure(figsize=(8, 7))\n",
    "sns.distplot(tmp2, bins=10, axlabel='Calificacion', hist=True, kde=False)\n",
    "plt.title('Análisis de Frecuencia para simulación de perforación con acompañamiento', fontdict={\n",
    "    'fontsize': 14,\n",
    "    'fontweight' : 400,\n",
    "    'verticalalignment': 'baseline',\n",
    "})\n",
    "plt.xlabel('Calificación', fontdict={\n",
    "    'fontsize': 12,\n",
    "    'fontweight' : 400,\n",
    "})\n",
    "plt.ylabel('Numero de Apariciones', fontdict={\n",
    "    'fontsize': 12,\n",
    "    'fontweight' : 400,\n",
    "    'verticalalignment': 'baseline',\n",
    "})\n",
    "plt.xticks(np.linspace(0,8,10), ['0', '1', '2', '3', '4', '5', '6', '7', '8', '9']);\n",
    "plt.ylim(0, 20)\n",
    "plt.savefig('figure2.png')"
   ]
  },
  {
   "cell_type": "code",
   "execution_count": null,
   "metadata": {},
   "outputs": [],
   "source": []
  },
  {
   "cell_type": "code",
   "execution_count": null,
   "metadata": {},
   "outputs": [],
   "source": []
  },
  {
   "cell_type": "code",
   "execution_count": null,
   "metadata": {},
   "outputs": [],
   "source": []
  },
  {
   "cell_type": "code",
   "execution_count": null,
   "metadata": {},
   "outputs": [],
   "source": []
  }
 ],
 "metadata": {
  "kernelspec": {
   "display_name": "Python 3",
   "language": "python",
   "name": "python3"
  },
  "language_info": {
   "codemirror_mode": {
    "name": "ipython",
    "version": 3
   },
   "file_extension": ".py",
   "mimetype": "text/x-python",
   "name": "python",
   "nbconvert_exporter": "python",
   "pygments_lexer": "ipython3",
   "version": "3.7.3"
  }
 },
 "nbformat": 4,
 "nbformat_minor": 2
}
